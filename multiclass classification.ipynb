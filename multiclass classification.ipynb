{
 "cells": [
  {
   "cell_type": "code",
   "execution_count": 43,
   "metadata": {},
   "outputs": [],
   "source": [
    "import pandas as pd\n",
    "import numpy as np\n",
    "from sklearn.datasets import load_wine\n",
    "from sklearn.model_selection import train_test_split\n",
    "import matplotlib.pyplot as plt\n",
    "from sklearn.metrics import confusion_matrix\n",
    "from sklearn.linear_model import LogisticRegression\n",
    "from sklearn.tree import DecisionTreeClassifier\n",
    "from sklearn.svm import SVC\n",
    "from sklearn.naive_bayes import GaussianNB"
   ]
  },
  {
   "cell_type": "code",
   "execution_count": 8,
   "metadata": {},
   "outputs": [],
   "source": [
    "dataset=load_wine()\n",
    "columns=['alcohol', 'malic_acid', 'ash', 'alcalinity_of_ash', 'magnesium', 'total_phenols', 'flavanoids',\n",
    "         'nonflavanoid_phenols', 'proanthocyanins', 'color_intensity', 'hue', 'od280/od315_of_diluted_wines', 'proline']\n",
    "data=dataset.data\n",
    "\n",
    "#normalisation/feature scaling\n",
    "mean=data.mean()\n",
    "std=data.std()\n",
    "data=(data-mean)/std"
   ]
  },
  {
   "cell_type": "code",
   "execution_count": 9,
   "metadata": {},
   "outputs": [],
   "source": [
    "df=pd.DataFrame(data,columns=columns)\n",
    "y=dataset.target"
   ]
  },
  {
   "cell_type": "code",
   "execution_count": 11,
   "metadata": {},
   "outputs": [],
   "source": [
    "x_train, x_test, y_train, y_test = train_test_split(df, y, test_size=0.3,random_state=0)"
   ]
  },
  {
   "cell_type": "code",
   "execution_count": 37,
   "metadata": {},
   "outputs": [
    {
     "name": "stdout",
     "output_type": "stream",
     "text": [
      "[[17  0  2]\n",
      " [ 1 19  2]\n",
      " [ 1  6  6]]\n",
      "ACCURACY : 0.7777777777777778\n"
     ]
    }
   ],
   "source": [
    "lr=LogisticRegression(solver='saga',max_iter=500,multi_class='multinomial')\n",
    "lr.fit(x_train,y_train)\n",
    "y_predict=lr.predict(x_test)\n",
    "\n",
    "cm=confusion_matrix(y_test,y_predict)\n",
    "print(cm)\n",
    "print(\"ACCURACY :\",((cm[0][0]+cm[1][1]+cm[2][2])/np.sum(cm)) )"
   ]
  },
  {
   "cell_type": "code",
   "execution_count": 40,
   "metadata": {},
   "outputs": [
    {
     "name": "stdout",
     "output_type": "stream",
     "text": [
      "[[18  1  0]\n",
      " [ 1 20  1]\n",
      " [ 0  0 13]]\n",
      "ACCURACY : 0.9444444444444444\n"
     ]
    }
   ],
   "source": [
    "#using descision tree\n",
    "dtc= DecisionTreeClassifier()\n",
    "dtc.fit(x_train, y_train)\n",
    "y_predict=dtc.predict(x_test)\n",
    "\n",
    "cm=confusion_matrix(y_test,y_predict)\n",
    "print(cm)\n",
    "print(\"ACCURACY :\",((cm[0][0]+cm[1][1]+cm[2][2])/np.sum(cm)) )\n"
   ]
  },
  {
   "cell_type": "code",
   "execution_count": 46,
   "metadata": {},
   "outputs": [
    {
     "name": "stdout",
     "output_type": "stream",
     "text": [
      "[[17  0  2]\n",
      " [ 1 21  0]\n",
      " [ 1  7  5]]\n",
      "ACCURACY : 0.7962962962962963\n"
     ]
    }
   ],
   "source": [
    "svm = SVC(gamma='auto')\n",
    "svm.fit(x_train, y_train)\n",
    "y_predict=svm.predict(x_test)\n",
    "\n",
    "cm=confusion_matrix(y_test,y_predict)\n",
    "print(cm)\n",
    "print(\"ACCURACY :\",((cm[0][0]+cm[1][1]+cm[2][2])/np.sum(cm)) )"
   ]
  },
  {
   "cell_type": "code",
   "execution_count": 45,
   "metadata": {},
   "outputs": [
    {
     "name": "stdout",
     "output_type": "stream",
     "text": [
      "[[19  0  0]\n",
      " [ 2 19  1]\n",
      " [ 0  0 13]]\n",
      "ACCURACY : 0.9444444444444444\n"
     ]
    }
   ],
   "source": [
    "gnb = GaussianNB()\n",
    "gnb.fit(x_train, y_train)\n",
    "y_predict=gnb.predict(x_test)\n",
    "\n",
    "cm=confusion_matrix(y_test,y_predict)\n",
    "print(cm)\n",
    "print(\"ACCURACY :\",((cm[0][0]+cm[1][1]+cm[2][2])/np.sum(cm)) )"
   ]
  }
 ],
 "metadata": {
  "kernelspec": {
   "display_name": "Python 3",
   "language": "python",
   "name": "python3"
  },
  "language_info": {
   "codemirror_mode": {
    "name": "ipython",
    "version": 3
   },
   "file_extension": ".py",
   "mimetype": "text/x-python",
   "name": "python",
   "nbconvert_exporter": "python",
   "pygments_lexer": "ipython3",
   "version": "3.7.1"
  }
 },
 "nbformat": 4,
 "nbformat_minor": 2
}
